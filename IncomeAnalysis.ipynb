{
 "cells": [
  {
   "cell_type": "code",
   "execution_count": 245,
   "id": "adjusted-basis",
   "metadata": {},
   "outputs": [],
   "source": [
    "import pandas as pd\n",
    "import numpy as np\n",
    "import matplotlib.pyplot as plt\n",
    "%matplotlib inline"
   ]
  },
  {
   "cell_type": "code",
   "execution_count": 246,
   "id": "assisted-linux",
   "metadata": {},
   "outputs": [],
   "source": [
    "#Read Data from adult.data file\n",
    "\n",
    "columns = ['Age', 'WorkClass', 'FNLWGT', 'Education', 'EducationNum',\n",
    "           'MaritalStatus','Occupation','Relationship','Race','Sex', \n",
    "           'CapitalGain','CapitalLoss','HoursPerWeek','NativeCountry', 'Income']\n",
    "\n",
    "train_data = pd.read_csv('Dataset/adult.data', sep=', ', names=columns, engine='python')\n",
    "test_data = pd.read_csv('Dataset/adult.test', sep=', ', names=columns, engine='python')"
   ]
  },
  {
   "cell_type": "code",
   "execution_count": 247,
   "id": "olympic-banana",
   "metadata": {},
   "outputs": [],
   "source": [
    "def clean_data (dataset) :\n",
    "    \n",
    "    #Remove the rows having '?'\n",
    "    dataset = dataset[~(dataset[columns] == '?').any(axis=1)]\n",
    "    \n",
    "    #Remove rows having 'NaN'\n",
    "    dataset = dataset.dropna()\n",
    "    \n",
    "    #Reset index\n",
    "    dataset = dataset.reset_index(drop=True)\n",
    "    \n",
    "    # Replace '>50K.' with '>50K' and '<=50K.' with '<=50K' \n",
    "    dataset = dataset.replace('>50K.', '>50K')\n",
    "    dataset = dataset.replace('<=50K.', '<=50K')\n",
    "    \n",
    "    return dataset\n",
    "    "
   ]
  },
  {
   "cell_type": "code",
   "execution_count": 248,
   "id": "awful-astrology",
   "metadata": {},
   "outputs": [],
   "source": [
    "def concatDataframe (dataset1, dataset2):\n",
    "    return pd.concat([dataset1, dataset2], ignore_index=True)"
   ]
  },
  {
   "cell_type": "code",
   "execution_count": 249,
   "id": "verified-prerequisite",
   "metadata": {},
   "outputs": [],
   "source": [
    "def workClass_vs_Income(labels, less_than_fifty, greater_than_fifty):\n",
    "\n",
    "    x = np.arange(len(labels))  # the label locations\n",
    "    width = 0.35  # the width of the bars\n",
    "\n",
    "    fig, ax = plt.subplots(figsize=(15, 8))\n",
    "    rects1 = ax.bar(x - width/2, less_than_fifty, width, label='<=50K')\n",
    "    rects2 = ax.bar(x + width/2, greater_than_fifty, width, label='>50K')\n",
    "\n",
    "    ax.set_ylabel('% of Adults')\n",
    "    ax.set_xlabel('Work Class')\n",
    "    ax.set_title('Income vs Work Class')\n",
    "    ax.set_xticks(x)\n",
    "    ax.set_xticklabels(labels)\n",
    "    ax.legend()\n",
    "\n",
    "\n",
    "    def autolabel(rects):\n",
    "        \"\"\"Attach a text label above each bar in *rects*, displaying its height.\"\"\"\n",
    "        for rect in rects:\n",
    "            height = rect.get_height()\n",
    "            ax.annotate('{}%'.format(height),\n",
    "                        xy=(rect.get_x() + rect.get_width() / 2, height),\n",
    "                        xytext=(0, 3),  # 3 points vertical offset\n",
    "                        textcoords=\"offset points\",\n",
    "                        ha='center', va='bottom')\n",
    "\n",
    "\n",
    "    autolabel(rects1)\n",
    "    autolabel(rects2)\n",
    "\n",
    "    fig.tight_layout()\n",
    "\n",
    "    plt.show()"
   ]
  },
  {
   "cell_type": "code",
   "execution_count": 250,
   "id": "hearing-stability",
   "metadata": {},
   "outputs": [],
   "source": [
    "train_data = clean_data(train_data)"
   ]
  },
  {
   "cell_type": "code",
   "execution_count": 251,
   "id": "forbidden-pioneer",
   "metadata": {},
   "outputs": [],
   "source": [
    "test_data = clean_data(test_data)"
   ]
  },
  {
   "cell_type": "code",
   "execution_count": 252,
   "id": "stretch-transportation",
   "metadata": {},
   "outputs": [],
   "source": [
    "concatenate_dataset = concatDataframe(train_data, test_data)"
   ]
  },
  {
   "cell_type": "code",
   "execution_count": 253,
   "id": "written-nylon",
   "metadata": {},
   "outputs": [
    {
     "data": {
      "image/png": "[encoded data removed]",
      "text/plain": [
       "<Figure size 1080x576 with 1 Axes>"
      ]
     },
     "metadata": {
      "needs_background": "light"
     },
     "output_type": "display_data"
    }
   ],
   "source": [
    "workclass_income = concatenate_dataset.groupby(['WorkClass','Income']).size().unstack(level=0).T\n",
    "#Normalize data\n",
    "workclass_income['Total'] = workclass_income['<=50K'] + workclass_income['>50K']\n",
    "workclass_income['<=50K%'] = round((workclass_income['<=50K'] / workclass_income['Total']) * 100)\n",
    "workclass_income['>50K%'] = round((workclass_income['>50K'] / workclass_income['Total']) * 100)\n",
    "workclass_income['WorkClass'] = workclass_income.T.columns\n",
    "\n",
    "#Put data in a new data frame\n",
    "dict = {'WorkClass':workclass_income.T.columns.tolist(),\n",
    "        '<=50K': workclass_income['<=50K%'].tolist(),\n",
    "        '>50K':workclass_income['>50K%'].tolist()}\n",
    "workclass_income_dict = pd.DataFrame(dict)\n",
    "\n",
    "#Plot the comparision between WorkClass and Income\n",
    "workClass_vs_Income(workclass_income_dict['WorkClass'].tolist(),workclass_income_dict['<=50K'].tolist(), workclass_income_dict['>50K'].tolist() )\n"
   ]
  },
  {
   "cell_type": "code",
   "execution_count": null,
   "id": "close-baker",
   "metadata": {},
   "outputs": [],
   "source": []
  }
 ],
 "metadata": {
  "kernelspec": {
   "display_name": "Python 3",
   "language": "python",
   "name": "python3"
  },
  "language_info": {
   "codemirror_mode": {
    "name": "ipython",
    "version": 3
   },
   "file_extension": ".py",
   "mimetype": "text/x-python",
   "name": "python",
   "nbconvert_exporter": "python",
   "pygments_lexer": "ipython3",
   "version": "3.9.0"
  }
 },
 "nbformat": 4,
 "nbformat_minor": 5
}
